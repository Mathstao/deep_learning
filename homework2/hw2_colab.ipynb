{
 "cells": [
  {
   "cell_type": "markdown",
   "metadata": {
    "colab_type": "text",
    "id": "IRzvKKR19JeG"
   },
   "source": [
    "This Colab notebook helps you with homework 2. Please see the homework 1 notebook for how to set up and upload files.\n",
    "\n",
    "We start by setting up Tensorboard:"
   ]
  },
  {
   "cell_type": "code",
   "execution_count": 0,
   "metadata": {
    "colab": {},
    "colab_type": "code",
    "id": "KlnnVhtGGBLI"
   },
   "outputs": [],
   "source": [
    "%load_ext tensorboard"
   ]
  },
  {
   "cell_type": "code",
   "execution_count": 0,
   "metadata": {
    "colab": {
     "base_uri": "https://localhost:8080/",
     "height": 800
    },
    "colab_type": "code",
    "id": "OQWNg9E-EKxa",
    "outputId": "6566de68-dad5-4791-b0db-066e561a2077"
   },
   "outputs": [],
   "source": [
    "%tensorboard --logdir log"
   ]
  },
  {
   "cell_type": "markdown",
   "metadata": {},
   "source": [
    "Then import your code, set training parameters, and train:"
   ]
  },
  {
   "cell_type": "code",
   "execution_count": 0,
   "metadata": {
    "colab": {},
    "colab_type": "code",
    "id": "D9G9MNAVCKUJ"
   },
   "outputs": [],
   "source": [
    "import homework\n",
    "import homework.train"
   ]
  },
  {
   "cell_type": "code",
   "execution_count": 0,
   "metadata": {
    "colab": {},
    "colab_type": "code",
    "id": "rDfK0vo1CQqc"
   },
   "outputs": [],
   "source": [
    "from collections import namedtuple\n",
    "args = namedtuple('args', 'log_dir other_args')\n",
    "args.log_dir = 'log'\n",
    "args.other_args = 'something'"
   ]
  },
  {
   "cell_type": "code",
   "execution_count": 0,
   "metadata": {
    "colab": {},
    "colab_type": "code",
    "id": "O4kHaXFfDgff"
   },
   "outputs": [],
   "source": [
    "homework.train.train(args)"
   ]
  },
  {
   "cell_type": "markdown",
   "metadata": {
    "colab_type": "text",
    "id": "qkH7f16XKGMF"
   },
   "source": [
    "Download your saved model with:"
   ]
  },
  {
   "cell_type": "code",
   "execution_count": 0,
   "metadata": {
    "colab": {},
    "colab_type": "code",
    "id": "oNopQ5c5KLkr"
   },
   "outputs": [],
   "source": [
    "from google.colab import files\n",
    "files.download('homework/cnn.th')"
   ]
  }
 ],
 "metadata": {
  "accelerator": "GPU",
  "colab": {
   "collapsed_sections": [],
   "name": "dl_class_hw2.ipynb",
   "provenance": [],
   "version": "0.3.2"
  },
  "kernelspec": {
   "display_name": "Python 3",
   "language": "python",
   "name": "python3"
  },
  "language_info": {
   "codemirror_mode": {
    "name": "ipython",
    "version": 3
   },
   "file_extension": ".py",
   "mimetype": "text/x-python",
   "name": "python",
   "nbconvert_exporter": "python",
   "pygments_lexer": "ipython3",
   "version": "3.7.3"
  }
 },
 "nbformat": 4,
 "nbformat_minor": 1
}
